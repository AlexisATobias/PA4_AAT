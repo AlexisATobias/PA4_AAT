{
 "cells": [
  {
   "cell_type": "markdown",
   "id": "86a4158a",
   "metadata": {},
   "source": [
    "# PA4\n",
    "## Created by: Alexis Tobias\n",
    "### Python 3 \n",
    "### Fall 2023"
   ]
  },
  {
   "cell_type": "markdown",
   "id": "acd529bf",
   "metadata": {},
   "source": [
    "# Task 1: Grade Calculator "
   ]
  },
  {
   "cell_type": "code",
   "execution_count": null,
   "id": "5eb5e34a",
   "metadata": {},
   "outputs": [],
   "source": [
    "# Installing statistical modules (statistics) and running updates\n",
    "from statistics import mean"
   ]
  },
  {
   "cell_type": "code",
   "execution_count": null,
   "id": "6701451b",
   "metadata": {},
   "outputs": [],
   "source": [
    "# Create a list named grades containing five numerical grades (0-100).\n",
    "grades= [0,97,84,79,100]\n",
    "print(grades)\n",
    "for grade in grades:\n",
    "     print(grade,\"%\")\n",
    "print(\"Number of grades in Gradebook =\",len(grades))\n",
    "# Calculate the average grade from the list.\n",
    "print(\"Average Grade =\",mean(grades),\"%\")"
   ]
  },
  {
   "cell_type": "code",
   "execution_count": null,
   "id": "d10daa32",
   "metadata": {},
   "outputs": [],
   "source": [
    "# Use an if-else condition to determine the letter grade based on the average.(BASED ON AVERAGE GRADE)\n",
    "grade = 72\n",
    "\n",
    "if (grade>=90):\n",
    "    print(\"Your grade of \",grade,\"% is an \",\"A\")\n",
    "elif (grade>=80):\n",
    "    print(\"Your grade of \",grade,\"% is a \",\"B\")\n",
    "elif (grade>=70):\n",
    "     print(\"Your grade of \",grade,\"% is a \",\"C\")\n",
    "elif (grade>=60):\n",
    "     print(\"Your grade of \",grade,\"% is a \",\"D\")\n",
    "else:\n",
    "     print(\"Your grade of \",grade,\"% is a \",\"F\")\n",
    "print(\"Grade letters are based on the following averages:\")\n",
    "print(\"A = 90%-100%\")\n",
    "print(\"B = 80%-89%\")\n",
    "print(\"C = 70%-79%\")\n",
    "print(\"D = 60%-69%\")\n",
    "print(\"F = 60% or below\")"
   ]
  },
  {
   "cell_type": "code",
   "execution_count": null,
   "id": "eca6f306",
   "metadata": {},
   "outputs": [],
   "source": [
    "# Use an if-else condition to determine the letter grade based on the average.(BASED ON INPUTTED GRADE)\n",
    "grade = int(input(\"Enter your grade: \"))\n",
    "\n",
    "if (grade>=90):\n",
    "    print(\"Your grade of \",grade,\"% is an \",\"A\")\n",
    "elif (grade>=80):\n",
    "    print(\"Your grade of \",grade,\"% is a \",\"B\")\n",
    "elif (grade>=70):\n",
    "     print(\"Your grade of \",grade,\"% is a \",\"C\")\n",
    "elif (grade>=60):\n",
    "     print(\"Your grade of \",grade,\"% is a \",\"D\")\n",
    "else:\n",
    "     print(\"Your grade of \",grade,\"% is a \",\"F\")\n",
    "print(\"Grade letters are based on the following averages:\")\n",
    "print(\"A = 90%-100%\")\n",
    "print(\"B = 80%-89%\")\n",
    "print(\"C = 70%-79%\")\n",
    "print(\"D = 60%-69%\")\n",
    "print(\"F = 60% or below\")"
   ]
  },
  {
   "cell_type": "code",
   "execution_count": null,
   "id": "a310e89c",
   "metadata": {},
   "outputs": [],
   "source": [
    "# Print the average grade and corresponding letter grade.\n",
    "print(\"Grade letters are based on the following averages:\")\n",
    "print(\"A = 90%-100%\")\n",
    "print(\"B = 80%-89%\")\n",
    "print(\"C = 70%-79%\")\n",
    "print(\"D = 60%-69%\")\n",
    "print(\"F = 60% or below\")"
   ]
  },
  {
   "cell_type": "code",
   "execution_count": null,
   "id": "8a8f0a43",
   "metadata": {},
   "outputs": [],
   "source": [
    "grade=int(input(\"Enter the grade: \"))\n",
    "if (grade>=60):\n",
    "    print(\"Passed\")\n",
    "else:\n",
    "    print(\"Failed\")"
   ]
  },
  {
   "cell_type": "markdown",
   "id": "8f441b38",
   "metadata": {},
   "source": [
    "# Task 2: Tuple Unpacking"
   ]
  },
  {
   "cell_type": "code",
   "execution_count": null,
   "id": "32fd3f1e",
   "metadata": {},
   "outputs": [],
   "source": [
    "# Create a tuple named student with your first name, last name, age, and a subject (in that order).\n",
    "Student=(\"Alexis\",\"Tobias\",29,\"Computer_Programming\")\n",
    "First_Name, Last_Name, Age, Subject =  Student\n",
    "\n",
    "print(\"Student's first name: \" + First_Name)\n",
    "print(\"Student's last name: \" + Last_Name)\n",
    "print(\"Student's age: \" , Age)\n",
    "print(\"Student's favorite subject: \" + Subject)"
   ]
  },
  {
   "cell_type": "code",
   "execution_count": null,
   "id": "b83c604f",
   "metadata": {},
   "outputs": [],
   "source": [
    "# Use tuple unpacking and an if-else condition to check if the student's age is above 18.\n",
    "# If the age is above 18, print a message indicating that the student is an adult, otherwise print a message indicating that the student is a minor.\n",
    "\n",
    "if(Age>=18):\n",
    "    print(First_Name + \" is 18 years of age or older.\")\n",
    "    print(First_Name + \" is an adult.\")\n",
    "else:\n",
    "    print(First_Name + \" is under the age of 18.\")\n",
    "    print(First_Name + \" is a minor.\")"
   ]
  },
  {
   "cell_type": "markdown",
   "id": "ee839e85",
   "metadata": {},
   "source": [
    "# Task 3: Month and Date"
   ]
  },
  {
   "cell_type": "code",
   "execution_count": null,
   "id": "afe0291c",
   "metadata": {},
   "outputs": [],
   "source": [
    "# Write a Python program that will accept a number from 1 to 12 and display the name of the month and days in the month. Consider that the year is a regular year.\n",
    "Month=int(input(\"Enter a Month by its number out of the year: \"))\n",
    "Entered_Month= Month.title()\n",
    "print(Entered_Month)\n",
    "Month=[number for number in range (1,12) ]\n",
    "if(Month):\n",
    "    1=January\n",
    "elif(Month= February, 2) \n",
    "2=February\n",
    "elif\n",
    "3=March\n",
    "elif\n",
    "4=April\n",
    "elif\n",
    "5=May\n",
    "elif\n",
    "6=June\n",
    "elif\n",
    "7=July\n",
    "elif\n",
    "8=August\n",
    "elif\n",
    "9=September\n",
    "elif\n",
    "10=October\n",
    "elif\n",
    "11=November\n",
    "elif\n",
    "12=December\n",
    "else:\n",
    "    print(\"Please confirm your number is between 1 and 12.\")"
   ]
  },
  {
   "cell_type": "markdown",
   "id": "158a796d",
   "metadata": {},
   "source": [
    "# Task 4: Triangle"
   ]
  },
  {
   "cell_type": "code",
   "execution_count": 10,
   "id": "5ca229fa",
   "metadata": {},
   "outputs": [
    {
     "name": "stdout",
     "output_type": "stream",
     "text": [
      "Enter a number for side a of the triangle: 8\n",
      "Enter a number for side b of the triangle: 4\n",
      "Enter a number for side c of the triangle: 5\n",
      "The area of the triangle is 8.18\n"
     ]
    }
   ],
   "source": [
    "# Accept three sides of a triangle and check whether it is an equilateral, isosceles, or scalene triangle.\n",
    "a=float(input(\"Enter a number for side a of the triangle: \"))\n",
    "\n",
    "b=float(input(\"Enter a number for side b of the triangle: \"))\n",
    "\n",
    "c=float(input(\"Enter a number for side c of the triangle: \"))\n",
    "\n",
    "#a = 5\n",
    "#b = 6\n",
    "#c = 7\n",
    "s = (a + b + c) / 2\n",
    "area = (s*(s-a)*(s-b)*(s-c)) ** 0.5\n",
    "print('The area of the triangle is %0.2f' %area)\n",
    "\n",
    "\n",
    "def checkTriangle(a, b, c):\n",
    "     # _Check for equilateral triangle\n",
    "    if a == b == c:\n",
    "        print(\"Equilateral Triangle\")\n",
    " \n",
    "    # Check for isosceles triangle\n",
    "    elif a == b or b == c or c == a:\n",
    "        print(\"Isosceles Triangle\")\n",
    " \n",
    "    # Otherwise scalene triangle\n",
    "    else:\n",
    "        print(\"Scalene Triangle\")"
   ]
  },
  {
   "cell_type": "code",
   "execution_count": null,
   "id": "ea699fba",
   "metadata": {},
   "outputs": [],
   "source": [
    "# Python3 program for the above approach\n",
    " \n",
    "# Function to check if the triangle\n",
    "# is equilateral or isosceles or scalene\n",
    "def checkTriangle(a, b, c):\n",
    " \n",
    "    # _Check for equilateral triangle\n",
    "    if a == b == c:\n",
    "        print(\"Equilateral Triangle\")\n",
    " \n",
    "    # Check for isosceles triangle\n",
    "    elif a == b or b == c or c == a:\n",
    "        print(\"Isosceles Triangle\")\n",
    " \n",
    "    # Otherwise scalene triangle\n",
    "    else:\n",
    "        print(\"Scalene Triangle\")\n",
    " \n",
    " \n",
    "# Driver Code\n",
    " \n",
    "# Given sides of triangle\n",
    "x = 8\n",
    "y = 7\n",
    "z = 9\n",
    " \n",
    "# Function Call\n",
    "checkTriangle(x, y, z)"
   ]
  },
  {
   "cell_type": "markdown",
   "id": "ac934795",
   "metadata": {},
   "source": [
    "# Task 5: List Comprehension and Filtering"
   ]
  },
  {
   "cell_type": "code",
   "execution_count": null,
   "id": "03d87df2",
   "metadata": {},
   "outputs": [],
   "source": [
    "#  Create a list of named numbers containing integers from 21 to 40.\n"
   ]
  },
  {
   "cell_type": "code",
   "execution_count": null,
   "id": "242c8416",
   "metadata": {},
   "outputs": [],
   "source": []
  },
  {
   "cell_type": "code",
   "execution_count": null,
   "id": "fcb3dab3",
   "metadata": {},
   "outputs": [],
   "source": []
  }
 ],
 "metadata": {
  "kernelspec": {
   "display_name": "Python 3 (ipykernel)",
   "language": "python",
   "name": "python3"
  },
  "language_info": {
   "codemirror_mode": {
    "name": "ipython",
    "version": 3
   },
   "file_extension": ".py",
   "mimetype": "text/x-python",
   "name": "python",
   "nbconvert_exporter": "python",
   "pygments_lexer": "ipython3",
   "version": "3.11.5"
  }
 },
 "nbformat": 4,
 "nbformat_minor": 5
}
